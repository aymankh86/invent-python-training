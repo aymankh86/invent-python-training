{
 "cells": [
  {
   "cell_type": "markdown",
   "metadata": {},
   "source": [
    "# Guess The Number"
   ]
  },
  {
   "cell_type": "markdown",
   "metadata": {},
   "source": [
    "Topics Covered In This Chapter:\n",
    "* import statements\n",
    "* Modules\n",
    "* while statements\n",
    "* Conditions\n",
    "* Blocks\n",
    "* Booleans\n",
    "* Comparison operators\n",
    "* The difference between = and ==\n",
    "* if statements\n",
    "* The break keyword\n",
    "* The str()and int()and float() functions\n",
    "* The random.randint() function"
   ]
  },
  {
   "cell_type": "code",
   "execution_count": null,
   "metadata": {
    "collapsed": true
   },
   "outputs": [],
   "source": [
    "# imports\n",
    "import random"
   ]
  },
  {
   "cell_type": "code",
   "execution_count": null,
   "metadata": {
    "collapsed": false,
    "scrolled": true
   },
   "outputs": [],
   "source": [
    "# start the game\n",
    "print(\"Hello, What is your name?\")\n",
    "my_name = input()\n",
    "\n",
    "number = random.randint(1, 20)\n",
    "print('Well, ' + my_name + '. I am thinking of a number betwoon 1 and 20.')\n",
    "while True:\n",
    "    print('Take a guess.')\n",
    "    guess = input()\n",
    "    guess = int(guess)\n",
    "    \n",
    "    if guess < number:\n",
    "        print('Your guess is too low')\n",
    "    elif guess > number:\n",
    "        print('Your guess is too large')\n",
    "    else:\n",
    "        break\n",
    "        \n",
    "print('Good job, ' + my_name + '! You guess my number')"
   ]
  },
  {
   "cell_type": "code",
   "execution_count": null,
   "metadata": {
    "collapsed": true
   },
   "outputs": [],
   "source": []
  }
 ],
 "metadata": {
  "kernelspec": {
   "display_name": "Python 3",
   "language": "python",
   "name": "python3"
  },
  "language_info": {
   "codemirror_mode": {
    "name": "ipython",
    "version": 3
   },
   "file_extension": ".py",
   "mimetype": "text/x-python",
   "name": "python",
   "nbconvert_exporter": "python",
   "pygments_lexer": "ipython3",
   "version": "3.6.0"
  }
 },
 "nbformat": 4,
 "nbformat_minor": 2
}
