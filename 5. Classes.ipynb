{
 "cells": [
  {
   "cell_type": "markdown",
   "metadata": {},
   "source": [
    "# Classes"
   ]
  },
  {
   "cell_type": "markdown",
   "metadata": {},
   "source": [
    "### Class Code"
   ]
  },
  {
   "cell_type": "code",
   "execution_count": null,
   "metadata": {
    "collapsed": true
   },
   "outputs": [],
   "source": [
    "# We subclass from object to get a class.\n",
    "class Human(object):\n",
    "\n",
    "    # A class attribute. It is shared by all instances of this class\n",
    "    species = \"H. sapiens\"\n",
    "\n",
    "    # Basic initializer\n",
    "    def __init__(self, name):\n",
    "        # Assign the argument to the instance's name attribute\n",
    "        self.name = name\n",
    "\n",
    "    # An instance method. All methods take \"self\" as the first argument\n",
    "    def say(self, msg):\n",
    "       return \"%s: %s\" % (self.name, msg)\n",
    "\n",
    "    # A class method is shared among all instances\n",
    "    # They are called with the calling class as the first argument\n",
    "    @classmethod\n",
    "    def get_species(cls):\n",
    "        return cls.species\n",
    "\n",
    "    # A static method is called without a class or instance reference\n",
    "    @staticmethod\n",
    "    def grunt():\n",
    "        return \"*grunt*\""
   ]
  },
  {
   "cell_type": "markdown",
   "metadata": {},
   "source": [
    "### Creating and Using Objects"
   ]
  },
  {
   "cell_type": "code",
   "execution_count": null,
   "metadata": {
    "collapsed": false
   },
   "outputs": [],
   "source": [
    "# Instantiate a class\n",
    "i = Human(name=\"Ian\")\n",
    "print(i.say(\"hi\"))     # prints out \"Ian: hi\"\n",
    "\n",
    "j = Human(\"Joel\")\n",
    "print(j.say(\"hello\"))  #prints out \"Joel: hello\"\n",
    "\n",
    "# Call our class method\n",
    "i.get_species() #=> \"H. sapiens\"\n",
    "\n",
    "# Change the shared attribute\n",
    "Human.species = \"H. neanderthalensis\"\n",
    "i.get_species() #=> \"H. neanderthalensis\"\n",
    "j.get_species() #=> \"H. neanderthalensis\"\n",
    "\n",
    "# Call the static method\n",
    "Human.grunt() #=> \"*grunt*\""
   ]
  },
  {
   "cell_type": "markdown",
   "metadata": {},
   "source": [
    "### Challenge"
   ]
  },
  {
   "cell_type": "markdown",
   "metadata": {},
   "source": [
    "The class Robot below is very similar to the Human class above. Follow these steps on the bottom of the code:\n",
    "\n",
    "* Create a Robot named **\"Jim\"**\n",
    "* Call the instance method say on your robot and pass it the String **\"Greetings\"**\n",
    "* Call the class method **get_species** on your robot.\n",
    "* Call Robot's static method **beep**."
   ]
  },
  {
   "cell_type": "code",
   "execution_count": null,
   "metadata": {
    "collapsed": true
   },
   "outputs": [],
   "source": []
  }
 ],
 "metadata": {
  "kernelspec": {
   "display_name": "Python 3",
   "language": "python",
   "name": "python3"
  },
  "language_info": {
   "codemirror_mode": {
    "name": "ipython",
    "version": 3
   },
   "file_extension": ".py",
   "mimetype": "text/x-python",
   "name": "python",
   "nbconvert_exporter": "python",
   "pygments_lexer": "ipython3",
   "version": "3.6.0"
  }
 },
 "nbformat": 4,
 "nbformat_minor": 2
}
