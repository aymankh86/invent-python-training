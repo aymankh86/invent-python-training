{
 "cells": [
  {
   "cell_type": "markdown",
   "metadata": {},
   "source": [
    "# Functions"
   ]
  },
  {
   "cell_type": "code",
   "execution_count": 1,
   "metadata": {
    "collapsed": false
   },
   "outputs": [
    {
     "name": "stdout",
     "output_type": "stream",
     "text": [
      "x is 5 and y is 6\n",
      "x is 5 and y is 6\n",
      "(1, 2, 3, 4)\n",
      "{}\n",
      "()\n",
      "{'a': 3, 'b': 4}\n",
      "(1, 2, 3, 4)\n",
      "{'a': 3, 'b': 4}\n"
     ]
    }
   ],
   "source": [
    "# Use \"def\" to create new functions\n",
    "def add(x, y):\n",
    "    print(\"x is %s and y is %s\" % (x, y))\n",
    "    return x + y    # Return values with a return statement\n",
    "\n",
    "# Calling functions with parameters\n",
    "add(5, 6) #=> prints out \"x is 5 and y is 6\" and returns 11\n",
    "\n",
    "# Another way to call functions is with keyword arguments\n",
    "add(y=6, x=5)   # Keyword arguments can arrive in any order.\n",
    "\n",
    "# You can define functions that take a variable number of positional arguments\n",
    "def varargs(*args):\n",
    "    return args\n",
    "\n",
    "varargs(1, 2, 3) #=> (1,2,3)\n",
    "\n",
    "\n",
    "# You can also define functions that take a variable number of keyword arguments\n",
    "def keyword_args(**kwargs):\n",
    "    return kwargs\n",
    "\n",
    "# Let's call it to see what happens\n",
    "keyword_args(big=\"foot\", loch=\"ness\") #=> {\"big\": \"foot\", \"loch\": \"ness\"}\n",
    "\n",
    "# You can do both at once, if you like\n",
    "def all_the_args(*args, **kwargs):\n",
    "    print(args)\n",
    "    print(kwargs)\n",
    "\"\"\"\n",
    "all_the_args(1, 2, a=3, b=4) prints:\n",
    "    (1, 2)\n",
    "    {\"a\": 3, \"b\": 4}\n",
    "\"\"\"\n",
    "\n",
    "# When calling functions, you can do the opposite of args/kwargs!\n",
    "# Use * to expand tuples and use ** to expand kwargs.\n",
    "args = (1, 2, 3, 4)\n",
    "kwargs = {\"a\": 3, \"b\": 4}\n",
    "all_the_args(*args) # equivalent to foo(1, 2, 3, 4)\n",
    "all_the_args(**kwargs) # equivalent to foo(a=3, b=4)\n",
    "all_the_args(*args, **kwargs) # equivalent to foo(1, 2, 3, 4, a=3, b=4)"
   ]
  },
  {
   "cell_type": "markdown",
   "metadata": {},
   "source": [
    "### Challenge"
   ]
  },
  {
   "cell_type": "code",
   "execution_count": 3,
   "metadata": {
    "collapsed": true
   },
   "outputs": [],
   "source": [
    "# The following function sums the even numbers of its parameters:\n",
    "\n",
    "def sumEven(*vars):\n",
    "    sum = 0\n",
    "    for n in vars:\n",
    "        if n%2==0:\n",
    "            sum += n \n",
    "    return sum\n",
    "#For example, sumEven(2,3,4) would return 6.\n",
    "\n",
    "# You have a tuple named tup. Write one line of code (13 characters) that passes tup to sumEven() so it returns the sum of it's even numbers."
   ]
  },
  {
   "cell_type": "markdown",
   "metadata": {},
   "source": [
    "## Advanced Functional Stuff"
   ]
  },
  {
   "cell_type": "code",
   "execution_count": 6,
   "metadata": {
    "collapsed": false
   },
   "outputs": [
    {
     "data": {
      "text/plain": [
       "[6, 7]"
      ]
     },
     "execution_count": 6,
     "metadata": {},
     "output_type": "execute_result"
    }
   ],
   "source": [
    "\n",
    "# Python has first class functions (Like Javascript)\n",
    "def create_adder(x):\n",
    "    def adder(y):\n",
    "        return x + y\n",
    "    return adder\n",
    "\n",
    "add_10 = create_adder(10)\n",
    "add_10(3) #=> 13\n",
    "\n",
    "# There are also anonymous functions\n",
    "(lambda x: x > 2)(3) #=> True\n",
    "\n",
    "# There are built-in higher order functions\n",
    "map(add_10, [1,2,3]) #=> [11, 12, 13]\n",
    "filter(lambda x: x > 5, [3, 4, 5, 6, 7]) #=> [6, 7]\n",
    "\n",
    "# We can use list comprehensions for nice maps and filters\n",
    "[add_10(i) for i in [1, 2, 3]]  #=> [11, 12, 13]\n",
    "[x for x in [3, 4, 5, 6, 7] if x > 5] #=> [6, 7]"
   ]
  },
  {
   "cell_type": "markdown",
   "metadata": {},
   "source": [
    "### Challenge"
   ]
  },
  {
   "cell_type": "markdown",
   "metadata": {},
   "source": [
    "The function **makeMultiplier**, takes in one parameter, **x**. Fill in the function body so it returns a function that takes in one parameter **y** and returns the product of **x** and **y**.\n",
    "\n",
    "For example, calling **makeMultiplier(3)** should return a function that returns **3*y**, while calling **makeMultiplierr(10)** should return a function that returns 10*y."
   ]
  },
  {
   "cell_type": "code",
   "execution_count": null,
   "metadata": {
    "collapsed": true
   },
   "outputs": [],
   "source": []
  }
 ],
 "metadata": {
  "kernelspec": {
   "display_name": "Python 3",
   "language": "python",
   "name": "python3"
  },
  "language_info": {
   "codemirror_mode": {
    "name": "ipython",
    "version": 3
   },
   "file_extension": ".py",
   "mimetype": "text/x-python",
   "name": "python",
   "nbconvert_exporter": "python",
   "pygments_lexer": "ipython3",
   "version": "3.6.0"
  }
 },
 "nbformat": 4,
 "nbformat_minor": 2
}
