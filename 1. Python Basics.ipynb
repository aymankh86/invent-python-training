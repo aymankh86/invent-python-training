{
 "cells": [
  {
   "cell_type": "markdown",
   "metadata": {},
   "source": [
    "# Python Basics"
   ]
  },
  {
   "cell_type": "markdown",
   "metadata": {},
   "source": [
    "Python is a general-purpose language focused on readability. Unlike most languages, whitespace matters in python, and classes, functions and control structures are marked by being indented. Python is similar to Ruby, though it believes in one way to do things."
   ]
  },
  {
   "cell_type": "code",
   "execution_count": null,
   "metadata": {
    "collapsed": false
   },
   "outputs": [],
   "source": [
    "# Single line comments start with a hash.\n",
    "\n",
    "\"\"\" Multiline strings can be written\n",
    "    using three \"s, and are often used\n",
    "    as comments\n",
    "\"\"\"\n",
    "\n",
    "# Everything is an object in Python\n",
    "type(3)  #=> <class 'int'>\n",
    "type(3.0)  #=> <class 'float'>\n",
    "type(\"word\") #=> <class 'str'>\n",
    "type(True) #=> <class 'bool'>\n",
    "type(None)  #=> <class 'NoneType'>"
   ]
  },
  {
   "cell_type": "markdown",
   "metadata": {},
   "source": [
    "## Basic Math"
   ]
  },
  {
   "cell_type": "code",
   "execution_count": null,
   "metadata": {
    "collapsed": false
   },
   "outputs": [],
   "source": [
    "# Math is what you would expect\n",
    "1 + 1 #=> 2\n",
    "8 - 1 #=> 7\n",
    "10 * 2 #=> 20\n",
    "35 / 5 #=> 7.0\n",
    "2 ** 5 #=> 32\n",
    "5 % 3 #=> 2 #mod\n",
    "\n",
    "# Python does not automatically floors the results of Integer division (like Java)\n",
    "5 / 2 #=> 2.5\n",
    "\n",
    "# to fix this:\n",
    "5 // 2 #=> 2\n",
    "\n",
    "# Enforce precedence with parentheses\n",
    "(1 + 3) * 2 #=> 8"
   ]
  },
  {
   "cell_type": "code",
   "execution_count": null,
   "metadata": {
    "collapsed": false
   },
   "outputs": [],
   "source": [
    "35 / 5"
   ]
  },
  {
   "cell_type": "markdown",
   "metadata": {},
   "source": [
    "## Logic"
   ]
  },
  {
   "cell_type": "code",
   "execution_count": null,
   "metadata": {
    "collapsed": false
   },
   "outputs": [],
   "source": [
    "# Boolean values are capitalized\n",
    "True\n",
    "False\n",
    "\n",
    "# negate with not\n",
    "not True #=> False\n",
    "not False #=> True\n",
    "\n",
    "# Equality and Inequality\n",
    "1 == 1 #=> True\n",
    "2 == 1 #=> False\n",
    "1 != 1 #=> False\n",
    "2 != 1 #=> True\n",
    "\n",
    "# Comparisons\n",
    "1 < 10 #=> True\n",
    "1 > 10 #=> False\n",
    "2 <= 2 #=> True\n",
    "2 >= 2 #=> True\n",
    "\n",
    "# Comparisons can be chained!\n",
    "1 < 2 < 3 #=> True\n",
    "2 < 3 < 2 #=> False\n",
    "\n",
    "#Logical Operators\n",
    "3>2 and 2>1 #=> True\n",
    "2>3 and 2>1 #=> False\n",
    "2>3 or 2>1 #=> True   \n",
    "\n",
    "# None is an object (like nil or null)\n",
    "None #=> None\n",
    "\n",
    "# Don't use the equality \"==\" symbol to compare objects to None\n",
    "# Use \"is\" instead\n",
    "\"etc\" is None #=> False\n",
    "None is None  #=> True\n",
    "\n",
    "# The 'is' operator tests for object identity. This isn't\n",
    "# very useful when dealing with primitive values, but is\n",
    "# very useful when dealing with objects.\n",
    "\n",
    "# None, 0, and empty strings/lists all evaluate to False.\n",
    "# All other values are True\n",
    "bool(None) #=> False\n",
    "bool(0)  #=> False\n",
    "bool(\"\") #=> False"
   ]
  },
  {
   "cell_type": "markdown",
   "metadata": {},
   "source": [
    "## Strings"
   ]
  },
  {
   "cell_type": "code",
   "execution_count": null,
   "metadata": {
    "collapsed": false
   },
   "outputs": [],
   "source": [
    "# Strings are created with single or double-quotes\n",
    "\"This is a string.\"\n",
    "'This is also a string.'\n",
    "\n",
    "# Strings can be added too!\n",
    "\"Hello \" + \"world!\" #=> \"Hello world!\"\n",
    "\n",
    "# A string can be treated like a list of characters\n",
    "\"This is a string\"[0] #=> 'T'\n",
    "\n",
    "# % can be used to format strings:\n",
    "\"%s can be %s\" % (\"strings\", \"interpolated\")\n",
    "#=> 'strings can be interpolated'\n",
    "\n",
    "# A newer, preferred way to format strings is the format method.\n",
    "\"{0} can be {1}\".format(\"strings\", \"formatted\")\n",
    "#=> 'strings can be formatted'\n",
    "# You can use keywords if you don't want to count.\n",
    "\"{name} wants to eat {food}\".format(name=\"Bob\", food=\"lasagna\")\n",
    "#=> 'Bob wants to eat lasagna'\n",
    "\n",
    "# Python has a print function\n",
    "print(\"I'm Python. Nice to meet you!\")\n"
   ]
  },
  {
   "cell_type": "markdown",
   "metadata": {},
   "source": [
    "### Challenge"
   ]
  },
  {
   "cell_type": "markdown",
   "metadata": {},
   "source": [
    "What will the following code print?\n",
    "```py\n",
    "dollars = 23\n",
    "cents = 34\n",
    "print(\"He has ${0}.{1}\".format(dollars, cents))\n",
    "```"
   ]
  },
  {
   "cell_type": "markdown",
   "metadata": {},
   "source": [
    "## Variables"
   ]
  },
  {
   "cell_type": "code",
   "execution_count": null,
   "metadata": {
    "collapsed": false
   },
   "outputs": [],
   "source": [
    "# No need to declare variables before assigning to them.\n",
    "some_var = 5    # Convention is to use lower_case_with_underscores\n",
    "some_var #=> 5\n",
    "\n",
    "# You can assign multiple variables in one line\n",
    "x = y = 10 #=> 10\n",
    "x #=> 10\n",
    "y #=> 10\n",
    "\n",
    "# Variables can be dynamically assigned to different types\n",
    "thing = 5  #=> 5\n",
    "thing = \"hello\" #=> \"hello\"\n",
    "thing = True #=> True    \n",
    "\n",
    "# Accessing a previously unassigned variable is an exception.\n",
    "# See Control Flow to learn more about exception handling.\n",
    "some_other_var  # Raises a name error"
   ]
  },
  {
   "cell_type": "code",
   "execution_count": null,
   "metadata": {
    "collapsed": true
   },
   "outputs": [],
   "source": []
  }
 ],
 "metadata": {
  "kernelspec": {
   "display_name": "Python 3",
   "language": "python",
   "name": "python3"
  },
  "language_info": {
   "codemirror_mode": {
    "name": "ipython",
    "version": 3
   },
   "file_extension": ".py",
   "mimetype": "text/x-python",
   "name": "python",
   "nbconvert_exporter": "python",
   "pygments_lexer": "ipython3",
   "version": "3.6.0"
  }
 },
 "nbformat": 4,
 "nbformat_minor": 2
}
