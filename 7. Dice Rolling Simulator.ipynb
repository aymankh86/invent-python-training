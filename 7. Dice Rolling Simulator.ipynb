{
 "cells": [
  {
   "cell_type": "markdown",
   "metadata": {},
   "source": [
    "# Dice Rolling Simulator"
   ]
  },
  {
   "cell_type": "markdown",
   "metadata": {},
   "source": [
    "Topics Covered:\n",
    "* import statements\n",
    "* Modules\n",
    "* while statements\n",
    "* Blocks\n",
    "* Booleans\n",
    "* Comparison operators\n",
    "* The difference between = and ==\n",
    "* The random.randint() function\n"
   ]
  },
  {
   "cell_type": "code",
   "execution_count": null,
   "metadata": {
    "collapsed": true
   },
   "outputs": [],
   "source": [
    "# imports\n",
    "import random"
   ]
  },
  {
   "cell_type": "code",
   "execution_count": null,
   "metadata": {
    "collapsed": true
   },
   "outputs": [],
   "source": [
    "# set values\n",
    "min = 1 # set min value\n",
    "max = 6 # set max value\n",
    "\n",
    "roll_again = \"yes\""
   ]
  },
  {
   "cell_type": "code",
   "execution_count": null,
   "metadata": {
    "collapsed": false
   },
   "outputs": [],
   "source": [
    "# start loop\n",
    "while roll_again == 'yes' or roll_again == 'y':\n",
    "    # show messages on console\n",
    "    print(\"Rolling the dices ...\")\n",
    "    print(\"The values are ...\")\n",
    "    print(random.randint(min, max)) # pick a random integer between min and max values\n",
    "    print(random.randint(min, max)) # pick a random integer between min and max values\n",
    "    \n",
    "    # ask to roll again\n",
    "    roll_again = input(\"Roll the dices again? (yes/y to continue)\") # ask user to enter value from console\n"
   ]
  },
  {
   "cell_type": "code",
   "execution_count": null,
   "metadata": {
    "collapsed": true
   },
   "outputs": [],
   "source": []
  }
 ],
 "metadata": {
  "kernelspec": {
   "display_name": "Python 3",
   "language": "python",
   "name": "python3"
  },
  "language_info": {
   "codemirror_mode": {
    "name": "ipython",
    "version": 3
   },
   "file_extension": ".py",
   "mimetype": "text/x-python",
   "name": "python",
   "nbconvert_exporter": "python",
   "pygments_lexer": "ipython3",
   "version": "3.6.0"
  }
 },
 "nbformat": 4,
 "nbformat_minor": 2
}
