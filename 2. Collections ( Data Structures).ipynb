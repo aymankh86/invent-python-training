{
 "cells": [
  {
   "cell_type": "markdown",
   "metadata": {},
   "source": [
    "## Lists"
   ]
  },
  {
   "cell_type": "code",
   "execution_count": null,
   "metadata": {
    "collapsed": false
   },
   "outputs": [],
   "source": [
    "# Lists store sequences (like an Array in Ruby)\n",
    "li = []\n",
    "# You can start with a prefilled list\n",
    "other_li = [4, 5, 6]\n",
    "\n",
    "# Add stuff to the end of a list with append\n",
    "li.append(1)    #li is now [1]\n",
    "li.append(2)    #li is now [1, 2]\n",
    "li.append(4)    #li is now [1, 2, 4]\n",
    "li.append(3)    #li is now [1, 2, 4, 3]\n",
    "# Remove from the end with pop\n",
    "li.pop()        #=> 3 and li is now [1, 2, 4]\n",
    "# Let's put it back\n",
    "li.append(3)    # li is now [1, 2, 4, 3] again.\n",
    "\n",
    "# Access a list like you would any array\n",
    "li[0] #=> 1\n",
    "# Look at the last element\n",
    "li[-1] #=> 3\n",
    "\n",
    "# Looking out of bounds is an IndexError\n",
    "li[4] # Raises an IndexError\n",
    "\n",
    "# You can look at ranges with slice syntax.\n",
    "# (It's a closed/open range for you mathy types.)\n",
    "li[1:3] #=> [2, 4]\n",
    "# Omit the beginning\n",
    "li[2:] #=> [4, 3]\n",
    "# Omit the end\n",
    "li[:3] #=> [1, 2, 4]\n",
    "# Select every second entry\n",
    "li[::2] #=>[1,4]\n",
    "# Revert the list\n",
    "li[::-1] #=> [3, 4, 2, 1]\n",
    "# Use any combination of these to make advanced slices\n",
    "# li[start:end:step]\n",
    "\n",
    "# Remove arbitrary elements from a list with \"del\"\n",
    "del li[2] # li is now [1, 2, 3]\n",
    "\n",
    "# You can add lists\n",
    "li + other_li #=> [1, 2, 3, 4, 5, 6] - Note: li and other_li is left alone\n",
    "\n",
    "# Concatenate lists with \"extend()\"\n",
    "li.extend(other_li) # Now li is [1, 2, 3, 4, 5, 6]\n",
    "\n",
    "# Check for existence in a list with \"in\"\n",
    "1 in li #=> True\n",
    "\n",
    "# Examine the length with \"len()\"\n",
    "len(li) #=> 6"
   ]
  },
  {
   "cell_type": "markdown",
   "metadata": {},
   "source": [
    "### Challenge"
   ]
  },
  {
   "cell_type": "code",
   "execution_count": null,
   "metadata": {
    "collapsed": false
   },
   "outputs": [],
   "source": [
    "# What will the following code return?\n",
    "\n",
    "list = [1,2,3,4,5]\n",
    "list[1:3]"
   ]
  },
  {
   "cell_type": "markdown",
   "metadata": {},
   "source": [
    "## Tuples"
   ]
  },
  {
   "cell_type": "code",
   "execution_count": null,
   "metadata": {
    "collapsed": false
   },
   "outputs": [],
   "source": [
    "# Tuples are like lists but are immutable.\n",
    "tup = (1, 2, 3)\n",
    "tup[0] #=> 1\n",
    "tup[0] = 3  # Raises a TypeError\n",
    "\n",
    "# You can do all those list thingies on tuples too\n",
    "len(tup) #=> 3\n",
    "tup + (4, 5, 6) #=> (1, 2, 3, 4, 5, 6)\n",
    "tup[:2] #=> (1, 2)\n",
    "2 in tup #=> True\n",
    "\n",
    "# You can unpack tuples (or lists) into variables\n",
    "a, b, c = (1, 2, 3)     # a is now 1, b is now 2 and c is now 3\n",
    "# Tuples are created by default if you leave out the parentheses\n",
    "d, e, f = 4, 5, 6\n",
    "# Now look how easy it is to swap two values\n",
    "e, d = d, e     # d is now 5 and e is now 4"
   ]
  },
  {
   "cell_type": "markdown",
   "metadata": {},
   "source": [
    "## Dictionaries"
   ]
  },
  {
   "cell_type": "code",
   "execution_count": null,
   "metadata": {
    "collapsed": false
   },
   "outputs": [],
   "source": [
    "# Dictionaries store key-value mappings (like Hashes in Ruby)\n",
    "empty_dict = {}\n",
    "# Here is a prefilled dictionary\n",
    "filled_dict = {\"one\": 1, \"two\": 2, \"three\": 3}\n",
    "\n",
    "# Look up values with []\n",
    "filled_dict[\"one\"] #=> 1\n",
    "\n",
    "# Get all keys as a list with \"keys()\"\n",
    "filled_dict.keys() #=> [\"three\", \"two\", \"one\"]\n",
    "# Note - Dictionary key ordering is not guaranteed.\n",
    "# Your results might not match this exactly.\n",
    "\n",
    "# Get all values as a list with \"values()\"\n",
    "filled_dict.values() #=> [3, 2, 1]\n",
    "# Note - Same as above regarding key ordering.\n",
    "\n",
    "# Check for existence of keys in a dictionary with \"in\"\n",
    "\"one\" in filled_dict #=> True\n",
    "1 in filled_dict #=> False\n",
    "\n",
    "# Looking up a non-existing key is a KeyError\n",
    "filled_dict[\"four\"] # KeyError\n",
    "\n",
    "# Use \"get()\" method to avoid the KeyError\n",
    "filled_dict.get(\"one\") #=> 1\n",
    "filled_dict.get(\"four\") #=> None\n",
    "# The get method supports a default argument when the value is missing\n",
    "filled_dict.get(\"one\", 4) #=> 1\n",
    "filled_dict.get(\"four\", 4) #=> 4\n",
    "\n",
    "# \"setdefault()\" inserts into a dictionary only if the given key isn't present\n",
    "filled_dict.setdefault(\"five\", 5) #filled_dict[\"five\"] is set to 5\n",
    "filled_dict.setdefault(\"five\", 6) #filled_dict[\"five\"] is still 5"
   ]
  },
  {
   "cell_type": "markdown",
   "metadata": {},
   "source": [
    "## Sets"
   ]
  },
  {
   "cell_type": "code",
   "execution_count": null,
   "metadata": {
    "collapsed": false
   },
   "outputs": [],
   "source": [
    "# Sets store ... well sets\n",
    "empty_set = set()\n",
    "# Initialize a \"set()\" with a bunch of values\n",
    "some_set = set([1,2,2,3,4]) # some_set is now set([1, 2, 3, 4])\n",
    "\n",
    "# Since Python 2.7, {} can be used to declare a set\n",
    "filled_set = {1, 2, 2, 3, 4} # => {1, 2, 3, 4}\n",
    "\n",
    "# Add more items to a set\n",
    "filled_set.add(5) # filled_set is now {1, 2, 3, 4, 5}\n",
    "\n",
    "# Do set intersection with &\n",
    "other_set = {3, 4, 5, 6}\n",
    "filled_set & other_set #=> {3, 4, 5}\n",
    "\n",
    "# Do set union with |\n",
    "filled_set | other_set #=> {1, 2, 3, 4, 5, 6}\n",
    "\n",
    "# Do set difference with -\n",
    "{1,2,3,4} - {2,3,5} #=> {1, 4}\n",
    "\n",
    "# Check for existence in a set with in\n",
    "2 in filled_set #=> True\n",
    "10 in filled_set #=> False"
   ]
  },
  {
   "cell_type": "markdown",
   "metadata": {},
   "source": [
    "### Challenge"
   ]
  },
  {
   "cell_type": "markdown",
   "metadata": {},
   "source": [
    "You will be given an array (or \"list\") of numbers **ar**. Create and print another array of length 2 that just contains the first and last number in the original array."
   ]
  },
  {
   "cell_type": "code",
   "execution_count": null,
   "metadata": {
    "collapsed": true
   },
   "outputs": [],
   "source": []
  }
 ],
 "metadata": {
  "kernelspec": {
   "display_name": "Python 3",
   "language": "python",
   "name": "python3"
  },
  "language_info": {
   "codemirror_mode": {
    "name": "ipython",
    "version": 3
   },
   "file_extension": ".py",
   "mimetype": "text/x-python",
   "name": "python",
   "nbconvert_exporter": "python",
   "pygments_lexer": "ipython3",
   "version": "3.6.0"
  }
 },
 "nbformat": 4,
 "nbformat_minor": 2
}
